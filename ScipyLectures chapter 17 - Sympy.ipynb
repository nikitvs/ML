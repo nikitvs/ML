{
 "cells": [
  {
   "cell_type": "code",
   "execution_count": 1,
   "id": "bfef3998",
   "metadata": {},
   "outputs": [],
   "source": [
    "import sympy as sym"
   ]
  },
  {
   "cell_type": "markdown",
   "id": "6f2793de",
   "metadata": {},
   "source": [
    "### Calculate √2 with 100 decimals"
   ]
  },
  {
   "cell_type": "code",
   "execution_count": 2,
   "id": "0a3f3ed7",
   "metadata": {},
   "outputs": [
    {
     "data": {
      "text/latex": [
       "$\\displaystyle 1.414213562373095048801688724209698078569671875376948073176679737990732478462107038850387534327641573$"
      ],
      "text/plain": [
       "1.414213562373095048801688724209698078569671875376948073176679737990732478462107038850387534327641573"
      ]
     },
     "execution_count": 2,
     "metadata": {},
     "output_type": "execute_result"
    }
   ],
   "source": [
    "s = sym.Rational(1, 2)\n",
    "(2**s).evalf(100)"
   ]
  },
  {
   "cell_type": "markdown",
   "id": "9951134e",
   "metadata": {},
   "source": [
    "###  Calculate 1/2 + 1/3 in rational arithmetic"
   ]
  },
  {
   "cell_type": "code",
   "execution_count": 3,
   "id": "481c5b2e",
   "metadata": {},
   "outputs": [
    {
     "data": {
      "text/latex": [
       "$\\displaystyle \\frac{5}{6}$"
      ],
      "text/plain": [
       "5/6"
      ]
     },
     "execution_count": 3,
     "metadata": {},
     "output_type": "execute_result"
    }
   ],
   "source": [
    "a = sym.Rational(1, 2)\n",
    "b = sym.Rational(1, 3)\n",
    "a+b"
   ]
  },
  {
   "cell_type": "markdown",
   "id": "734a31dd",
   "metadata": {},
   "source": [
    "### Calculate the expanded form of (𝑥 + 𝑦)^6"
   ]
  },
  {
   "cell_type": "code",
   "execution_count": 4,
   "id": "b1eea7db",
   "metadata": {},
   "outputs": [
    {
     "data": {
      "text/latex": [
       "$\\displaystyle x^{6} + 6 x^{5} y + 15 x^{4} y^{2} + 20 x^{3} y^{3} + 15 x^{2} y^{4} + 6 x y^{5} + y^{6}$"
      ],
      "text/plain": [
       "x**6 + 6*x**5*y + 15*x**4*y**2 + 20*x**3*y**3 + 15*x**2*y**4 + 6*x*y**5 + y**6"
      ]
     },
     "execution_count": 4,
     "metadata": {},
     "output_type": "execute_result"
    }
   ],
   "source": [
    "x = sym.Symbol('x')\n",
    "y = sym.Symbol('y')\n",
    "sym.expand((x + y) ** 6)"
   ]
  },
  {
   "cell_type": "markdown",
   "id": "5db1d0b0",
   "metadata": {},
   "source": [
    "### Simplify the trigonometric expression sin(𝑥)/ cos(𝑥)"
   ]
  },
  {
   "cell_type": "code",
   "execution_count": 5,
   "id": "ce361f44",
   "metadata": {},
   "outputs": [
    {
     "data": {
      "text/latex": [
       "$\\displaystyle \\tan{\\left(x \\right)}$"
      ],
      "text/plain": [
       "tan(x)"
      ]
     },
     "execution_count": 5,
     "metadata": {},
     "output_type": "execute_result"
    }
   ],
   "source": [
    "sym.trigsimp(sym.sin(𝑥)/sym.cos(𝑥))"
   ]
  },
  {
   "cell_type": "markdown",
   "id": "d24eca9b",
   "metadata": {},
   "source": [
    "### Calculate lim𝑥→0 sin(𝑥)/𝑥"
   ]
  },
  {
   "cell_type": "code",
   "execution_count": 6,
   "id": "c8ab801b",
   "metadata": {},
   "outputs": [
    {
     "data": {
      "text/latex": [
       "$\\displaystyle 1$"
      ],
      "text/plain": [
       "1"
      ]
     },
     "execution_count": 6,
     "metadata": {},
     "output_type": "execute_result"
    }
   ],
   "source": [
    " sym.limit(sym.sin(x) / x, x, 0)"
   ]
  },
  {
   "cell_type": "markdown",
   "id": "d989623b",
   "metadata": {},
   "source": [
    "### Calculate the derivative of 𝑙𝑜𝑔(𝑥) for 𝑥"
   ]
  },
  {
   "cell_type": "code",
   "execution_count": 7,
   "id": "be851dde",
   "metadata": {},
   "outputs": [
    {
     "data": {
      "text/latex": [
       "$\\displaystyle \\frac{1}{x}$"
      ],
      "text/plain": [
       "1/x"
      ]
     },
     "execution_count": 7,
     "metadata": {},
     "output_type": "execute_result"
    }
   ],
   "source": [
    "sym.diff(sym.log(x), x)"
   ]
  },
  {
   "cell_type": "markdown",
   "id": "9e552584",
   "metadata": {},
   "source": [
    "### Solve the system of equations 𝑥 + 𝑦 = 2, 2 · 𝑥 + 𝑦 = 0"
   ]
  },
  {
   "cell_type": "code",
   "execution_count": 8,
   "id": "ce451074",
   "metadata": {},
   "outputs": [
    {
     "data": {
      "text/plain": [
       "(-2, 4)"
      ]
     },
     "execution_count": 8,
     "metadata": {},
     "output_type": "execute_result"
    }
   ],
   "source": [
    "solution = sym.solve((x + y - 2, 2 * x + y), (x, y))\n",
    "solution[x], solution[y]"
   ]
  },
  {
   "cell_type": "markdown",
   "id": "b1a544ca",
   "metadata": {},
   "source": [
    "### Are there boolean values x, y that make (~ x | y) & (~ y | x) true?"
   ]
  },
  {
   "cell_type": "code",
   "execution_count": 9,
   "id": "161cb5a4",
   "metadata": {},
   "outputs": [
    {
     "data": {
      "text/plain": [
       "{x: False, y: False}"
      ]
     },
     "execution_count": 9,
     "metadata": {},
     "output_type": "execute_result"
    }
   ],
   "source": [
    "sym.satisfiable((~x | y) & (~y | x))"
   ]
  },
  {
   "cell_type": "markdown",
   "id": "452c4f09",
   "metadata": {},
   "source": [
    "### Solve the Bernoulli differential equation"
   ]
  },
  {
   "cell_type": "code",
   "execution_count": 10,
   "id": "19faee39",
   "metadata": {},
   "outputs": [
    {
     "data": {
      "text/latex": [
       "$\\displaystyle f{\\left(x \\right)} = - \\frac{C_{1}}{- C_{1} + x}$"
      ],
      "text/plain": [
       "Eq(f(x), -C1/(-C1 + x))"
      ]
     },
     "execution_count": 10,
     "metadata": {},
     "output_type": "execute_result"
    }
   ],
   "source": [
    "f, g = sym.symbols('f g', cls=sym.Function)\n",
    "sym.dsolve(x * f(x).diff(x) + f(x) - f(x)**2, f(x))"
   ]
  },
  {
   "cell_type": "markdown",
   "id": "79198999",
   "metadata": {},
   "source": [
    "### Solve the same equation using hint='Bernoulli'. What do you observe ?"
   ]
  },
  {
   "cell_type": "code",
   "execution_count": 11,
   "id": "5c61068b",
   "metadata": {},
   "outputs": [
    {
     "data": {
      "text/latex": [
       "$\\displaystyle f{\\left(x \\right)} = \\frac{1}{C_{1} x + 1}$"
      ],
      "text/plain": [
       "Eq(f(x), 1/(C1*x + 1))"
      ]
     },
     "execution_count": 11,
     "metadata": {},
     "output_type": "execute_result"
    }
   ],
   "source": [
    "sym.dsolve(x * f(x).diff(x) + f(x) - f(x)**2, f(x), hint='Bernoulli')"
   ]
  },
  {
   "cell_type": "code",
   "execution_count": null,
   "id": "442f9e0b",
   "metadata": {},
   "outputs": [],
   "source": []
  }
 ],
 "metadata": {
  "kernelspec": {
   "display_name": "Python 3",
   "language": "python",
   "name": "python3"
  },
  "language_info": {
   "codemirror_mode": {
    "name": "ipython",
    "version": 3
   },
   "file_extension": ".py",
   "mimetype": "text/x-python",
   "name": "python",
   "nbconvert_exporter": "python",
   "pygments_lexer": "ipython3",
   "version": "3.6.13"
  }
 },
 "nbformat": 4,
 "nbformat_minor": 5
}
